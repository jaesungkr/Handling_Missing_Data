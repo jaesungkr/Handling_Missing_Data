{
 "cells": [
  {
   "cell_type": "code",
   "execution_count": 19,
   "metadata": {},
   "outputs": [],
   "source": [
    "import pandas as pd\n",
    "import numpy as np\n",
    "from scipy.stats import kendalltau\n",
    "from scipy.stats import spearmanr\n",
    "from scipy.stats import pearsonr\n",
    "from scipy.stats import pointbiserialr\n",
    "from astropy.stats import biweight_midcorrelation\n",
    "pd.set_option('display.max_rows',2000)\n",
    "pd.set_option('display.max_columns',2000)\n",
    "fopen = pd.read_excel('Kezar_KNN.xlsx', engine = 'openpyxl')\n",
    "df = fopen.loc[:, ['CHLA (mg/L)', 'TEMPERATURE (Centrigrade)', 'Total P (mg/L)']]"
   ]
  },
  {
   "cell_type": "code",
   "execution_count": 20,
   "metadata": {},
   "outputs": [],
   "source": [
    "# correlation of temerature and TotalP to CHLA\n",
    "col3 = spearmanr(df.iloc[:, 0], df.iloc[:, 0])\n",
    "col5 = spearmanr(df.iloc[:, 1], df.iloc[:, 0])\n",
    "col9 = spearmanr(df.iloc[:, 2], df.iloc[:, 0])\n",
    "\n",
    "\n",
    "cor_1 = [col3[0], col5[0], col9[0]]"
   ]
  },
  {
   "cell_type": "code",
   "execution_count": 21,
   "metadata": {},
   "outputs": [],
   "source": [
    "col3 = kendalltau(df.iloc[:, 0], df.iloc[:, 0])\n",
    "col5 = kendalltau(df.iloc[:, 1], df.iloc[:, 0])\n",
    "col9 = kendalltau(df.iloc[:, 2], df.iloc[:, 0])\n",
    "cor_2 = [col3[0], col5[0], col9[0]]\n"
   ]
  },
  {
   "cell_type": "code",
   "execution_count": 22,
   "metadata": {},
   "outputs": [],
   "source": [
    "col3 = pointbiserialr(df.iloc[:, 0], df.iloc[:, 0])\n",
    "col5 = pointbiserialr(df.iloc[:, 1], df.iloc[:, 0])\n",
    "col9 = pointbiserialr(df.iloc[:, 2], df.iloc[:, 0])\n",
    "cor_3 = [col3[0], col5[0], col9[0]]"
   ]
  },
  {
   "cell_type": "code",
   "execution_count": 23,
   "metadata": {},
   "outputs": [],
   "source": [
    "col3 = biweight_midcorrelation(df.iloc[:, 0], df.iloc[:, 0])\n",
    "col5 = biweight_midcorrelation(df.iloc[:, 1], df.iloc[:, 0])\n",
    "col9 = biweight_midcorrelation(df.iloc[:, 2], df.iloc[:, 0])\n",
    "cor_4 = [col3, col5, col9]"
   ]
  },
  {
   "cell_type": "code",
   "execution_count": 24,
   "metadata": {},
   "outputs": [],
   "source": [
    "col3 = pearsonr(df.iloc[:, 0], df.iloc[:, 0])\n",
    "col5 = pearsonr(df.iloc[:, 1], df.iloc[:, 0])\n",
    "col9 = pearsonr(df.iloc[:, 2], df.iloc[:, 0])\n",
    "cor_5 = [col3[0], col5[0], col9[0]]\n"
   ]
  },
  {
   "cell_type": "code",
   "execution_count": 25,
   "metadata": {},
   "outputs": [],
   "source": [
    "#creating dataframe\n",
    "name = ['CHLA','Temperature','Total P']\n",
    "df = pd.DataFrame({'SpearmanR': cor_1,'KendallR' : cor_2,'PointB' : cor_3,'Biweight' : cor_4,'PearsonR' : cor_5},index = name)"
   ]
  },
  {
   "cell_type": "code",
   "execution_count": 26,
   "metadata": {},
   "outputs": [],
   "source": [
    "df.sort_values(\"PointB\", inplace =True)\n",
    "finished = df.iloc[::-1]"
   ]
  },
  {
   "cell_type": "code",
   "execution_count": 27,
   "metadata": {},
   "outputs": [],
   "source": [
    "finished.to_excel(\"Rank_sortedKNN.xlsx\")"
   ]
  },
  {
   "cell_type": "code",
   "execution_count": null,
   "metadata": {},
   "outputs": [],
   "source": []
  }
 ],
 "metadata": {
  "kernelspec": {
   "display_name": "Python 3",
   "language": "python",
   "name": "python3"
  },
  "language_info": {
   "codemirror_mode": {
    "name": "ipython",
    "version": 3
   },
   "file_extension": ".py",
   "mimetype": "text/x-python",
   "name": "python",
   "nbconvert_exporter": "python",
   "pygments_lexer": "ipython3",
   "version": "3.8.1"
  }
 },
 "nbformat": 4,
 "nbformat_minor": 4
}
